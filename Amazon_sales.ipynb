{
 "cells": [
  {
   "cell_type": "markdown",
   "id": "7a7cf8d9-08cd-4d4a-a629-42831c402a30",
   "metadata": {},
   "source": [
    "## Amazon Sales Report\n",
    "##### In this project I am doing basic EDA on amazon Sales"
   ]
  },
  {
   "cell_type": "markdown",
   "id": "a77bf140-37e6-4f91-b9b4-968bc523271f",
   "metadata": {},
   "source": [
    "#### Overview:\n",
    " This dataset provides detailed sales data from Amazon,\n",
    "offering a comprehensive look at various product categories\n",
    "and their performance over time.\n",
    "It includes information on sales figures,\n",
    "order details, product categories, and customer demographics."
   ]
  },
  {
   "cell_type": "markdown",
   "id": "9c12399b-1fe6-4bdd-a74b-8722d386dd85",
   "metadata": {},
   "source": [
    "#### Let's start importing useful libraries "
   ]
  },
  {
   "cell_type": "code",
   "execution_count": 76,
   "id": "c7f8b33e-f540-4bfb-8a88-cf563e4ac81a",
   "metadata": {},
   "outputs": [],
   "source": [
    "import numpy as np\n",
    "import pandas as pd\n",
    "import matplotlib.pyplot as plt\n",
    "import seaborn as sns"
   ]
  },
  {
   "cell_type": "code",
   "execution_count": 133,
   "id": "e52b7f63-e2de-4441-bafc-8ac5181dfe38",
   "metadata": {},
   "outputs": [],
   "source": [
    "amazon= pd.read_csv(r\"C:\\Users\\taigk\\OneDrive\\Documents\\Desktop\\new_journey_786.py\\Amazon Sale Report.csv\\Amazon Sale Report.csv\") # importing dataset"
   ]
  },
  {
   "cell_type": "markdown",
   "id": "faef17bc-9aad-490e-a5bc-28944f1017ea",
   "metadata": {},
   "source": [
    "#### Let's start with the firsts few steps"
   ]
  },
  {
   "cell_type": "code",
   "execution_count": 66,
   "id": "5b6eecb8-cdcb-4e8f-a418-5cd2ca4a80f1",
   "metadata": {},
   "outputs": [
    {
     "data": {
      "text/html": [
       "<div>\n",
       "<style scoped>\n",
       "    .dataframe tbody tr th:only-of-type {\n",
       "        vertical-align: middle;\n",
       "    }\n",
       "\n",
       "    .dataframe tbody tr th {\n",
       "        vertical-align: top;\n",
       "    }\n",
       "\n",
       "    .dataframe thead th {\n",
       "        text-align: right;\n",
       "    }\n",
       "</style>\n",
       "<table border=\"1\" class=\"dataframe\">\n",
       "  <thead>\n",
       "    <tr style=\"text-align: right;\">\n",
       "      <th></th>\n",
       "      <th>index</th>\n",
       "      <th>Order ID</th>\n",
       "      <th>Date</th>\n",
       "      <th>Status</th>\n",
       "      <th>Fulfilment</th>\n",
       "      <th>Sales Channel</th>\n",
       "      <th>ship-service-level</th>\n",
       "      <th>Category</th>\n",
       "      <th>Size</th>\n",
       "      <th>Courier Status</th>\n",
       "      <th>...</th>\n",
       "      <th>currency</th>\n",
       "      <th>Amount</th>\n",
       "      <th>ship-city</th>\n",
       "      <th>ship-state</th>\n",
       "      <th>ship-postal-code</th>\n",
       "      <th>ship-country</th>\n",
       "      <th>B2B</th>\n",
       "      <th>fulfilled-by</th>\n",
       "      <th>New</th>\n",
       "      <th>PendingS</th>\n",
       "    </tr>\n",
       "  </thead>\n",
       "  <tbody>\n",
       "    <tr>\n",
       "      <th>0</th>\n",
       "      <td>0</td>\n",
       "      <td>405-8078784-5731545</td>\n",
       "      <td>04-30-22</td>\n",
       "      <td>Cancelled</td>\n",
       "      <td>Merchant</td>\n",
       "      <td>Amazon.in</td>\n",
       "      <td>Standard</td>\n",
       "      <td>T-shirt</td>\n",
       "      <td>S</td>\n",
       "      <td>On the Way</td>\n",
       "      <td>...</td>\n",
       "      <td>INR</td>\n",
       "      <td>647.62</td>\n",
       "      <td>MUMBAI</td>\n",
       "      <td>MAHARASHTRA</td>\n",
       "      <td>400081.0</td>\n",
       "      <td>IN</td>\n",
       "      <td>False</td>\n",
       "      <td>Easy Ship</td>\n",
       "      <td>NaN</td>\n",
       "      <td>NaN</td>\n",
       "    </tr>\n",
       "    <tr>\n",
       "      <th>1</th>\n",
       "      <td>1</td>\n",
       "      <td>171-9198151-1101146</td>\n",
       "      <td>04-30-22</td>\n",
       "      <td>Shipped - Delivered to Buyer</td>\n",
       "      <td>Merchant</td>\n",
       "      <td>Amazon.in</td>\n",
       "      <td>Standard</td>\n",
       "      <td>Shirt</td>\n",
       "      <td>3XL</td>\n",
       "      <td>Shipped</td>\n",
       "      <td>...</td>\n",
       "      <td>INR</td>\n",
       "      <td>406.00</td>\n",
       "      <td>BENGALURU</td>\n",
       "      <td>KARNATAKA</td>\n",
       "      <td>560085.0</td>\n",
       "      <td>IN</td>\n",
       "      <td>False</td>\n",
       "      <td>Easy Ship</td>\n",
       "      <td>NaN</td>\n",
       "      <td>NaN</td>\n",
       "    </tr>\n",
       "    <tr>\n",
       "      <th>2</th>\n",
       "      <td>2</td>\n",
       "      <td>404-0687676-7273146</td>\n",
       "      <td>04-30-22</td>\n",
       "      <td>Shipped</td>\n",
       "      <td>Amazon</td>\n",
       "      <td>Amazon.in</td>\n",
       "      <td>Expedited</td>\n",
       "      <td>Shirt</td>\n",
       "      <td>XL</td>\n",
       "      <td>Shipped</td>\n",
       "      <td>...</td>\n",
       "      <td>INR</td>\n",
       "      <td>329.00</td>\n",
       "      <td>NAVI MUMBAI</td>\n",
       "      <td>MAHARASHTRA</td>\n",
       "      <td>410210.0</td>\n",
       "      <td>IN</td>\n",
       "      <td>True</td>\n",
       "      <td>NaN</td>\n",
       "      <td>NaN</td>\n",
       "      <td>NaN</td>\n",
       "    </tr>\n",
       "    <tr>\n",
       "      <th>3</th>\n",
       "      <td>3</td>\n",
       "      <td>403-9615377-8133951</td>\n",
       "      <td>04-30-22</td>\n",
       "      <td>Cancelled</td>\n",
       "      <td>Merchant</td>\n",
       "      <td>Amazon.in</td>\n",
       "      <td>Standard</td>\n",
       "      <td>Blazzer</td>\n",
       "      <td>L</td>\n",
       "      <td>On the Way</td>\n",
       "      <td>...</td>\n",
       "      <td>INR</td>\n",
       "      <td>753.33</td>\n",
       "      <td>PUDUCHERRY</td>\n",
       "      <td>PUDUCHERRY</td>\n",
       "      <td>605008.0</td>\n",
       "      <td>IN</td>\n",
       "      <td>False</td>\n",
       "      <td>Easy Ship</td>\n",
       "      <td>NaN</td>\n",
       "      <td>NaN</td>\n",
       "    </tr>\n",
       "    <tr>\n",
       "      <th>4</th>\n",
       "      <td>4</td>\n",
       "      <td>407-1069790-7240320</td>\n",
       "      <td>04-30-22</td>\n",
       "      <td>Shipped</td>\n",
       "      <td>Amazon</td>\n",
       "      <td>Amazon.in</td>\n",
       "      <td>Expedited</td>\n",
       "      <td>Trousers</td>\n",
       "      <td>3XL</td>\n",
       "      <td>Shipped</td>\n",
       "      <td>...</td>\n",
       "      <td>INR</td>\n",
       "      <td>574.00</td>\n",
       "      <td>CHENNAI</td>\n",
       "      <td>TAMIL NADU</td>\n",
       "      <td>600073.0</td>\n",
       "      <td>IN</td>\n",
       "      <td>False</td>\n",
       "      <td>NaN</td>\n",
       "      <td>NaN</td>\n",
       "      <td>NaN</td>\n",
       "    </tr>\n",
       "    <tr>\n",
       "      <th>...</th>\n",
       "      <td>...</td>\n",
       "      <td>...</td>\n",
       "      <td>...</td>\n",
       "      <td>...</td>\n",
       "      <td>...</td>\n",
       "      <td>...</td>\n",
       "      <td>...</td>\n",
       "      <td>...</td>\n",
       "      <td>...</td>\n",
       "      <td>...</td>\n",
       "      <td>...</td>\n",
       "      <td>...</td>\n",
       "      <td>...</td>\n",
       "      <td>...</td>\n",
       "      <td>...</td>\n",
       "      <td>...</td>\n",
       "      <td>...</td>\n",
       "      <td>...</td>\n",
       "      <td>...</td>\n",
       "      <td>...</td>\n",
       "      <td>...</td>\n",
       "    </tr>\n",
       "    <tr>\n",
       "      <th>128971</th>\n",
       "      <td>128970</td>\n",
       "      <td>406-6001380-7673107</td>\n",
       "      <td>05-31-22</td>\n",
       "      <td>Shipped</td>\n",
       "      <td>Amazon</td>\n",
       "      <td>Amazon.in</td>\n",
       "      <td>Expedited</td>\n",
       "      <td>Shirt</td>\n",
       "      <td>XL</td>\n",
       "      <td>Shipped</td>\n",
       "      <td>...</td>\n",
       "      <td>INR</td>\n",
       "      <td>517.00</td>\n",
       "      <td>HYDERABAD</td>\n",
       "      <td>TELANGANA</td>\n",
       "      <td>500013.0</td>\n",
       "      <td>IN</td>\n",
       "      <td>False</td>\n",
       "      <td>NaN</td>\n",
       "      <td>NaN</td>\n",
       "      <td>NaN</td>\n",
       "    </tr>\n",
       "    <tr>\n",
       "      <th>128972</th>\n",
       "      <td>128971</td>\n",
       "      <td>402-9551604-7544318</td>\n",
       "      <td>05-31-22</td>\n",
       "      <td>Shipped</td>\n",
       "      <td>Amazon</td>\n",
       "      <td>Amazon.in</td>\n",
       "      <td>Expedited</td>\n",
       "      <td>T-shirt</td>\n",
       "      <td>M</td>\n",
       "      <td>Shipped</td>\n",
       "      <td>...</td>\n",
       "      <td>INR</td>\n",
       "      <td>999.00</td>\n",
       "      <td>GURUGRAM</td>\n",
       "      <td>HARYANA</td>\n",
       "      <td>122004.0</td>\n",
       "      <td>IN</td>\n",
       "      <td>False</td>\n",
       "      <td>NaN</td>\n",
       "      <td>NaN</td>\n",
       "      <td>NaN</td>\n",
       "    </tr>\n",
       "    <tr>\n",
       "      <th>128973</th>\n",
       "      <td>128972</td>\n",
       "      <td>407-9547469-3152358</td>\n",
       "      <td>05-31-22</td>\n",
       "      <td>Shipped</td>\n",
       "      <td>Amazon</td>\n",
       "      <td>Amazon.in</td>\n",
       "      <td>Expedited</td>\n",
       "      <td>Blazzer</td>\n",
       "      <td>XXL</td>\n",
       "      <td>Shipped</td>\n",
       "      <td>...</td>\n",
       "      <td>INR</td>\n",
       "      <td>690.00</td>\n",
       "      <td>HYDERABAD</td>\n",
       "      <td>TELANGANA</td>\n",
       "      <td>500049.0</td>\n",
       "      <td>IN</td>\n",
       "      <td>False</td>\n",
       "      <td>NaN</td>\n",
       "      <td>NaN</td>\n",
       "      <td>NaN</td>\n",
       "    </tr>\n",
       "    <tr>\n",
       "      <th>128974</th>\n",
       "      <td>128973</td>\n",
       "      <td>402-6184140-0545956</td>\n",
       "      <td>05-31-22</td>\n",
       "      <td>Shipped</td>\n",
       "      <td>Amazon</td>\n",
       "      <td>Amazon.in</td>\n",
       "      <td>Expedited</td>\n",
       "      <td>T-shirt</td>\n",
       "      <td>XS</td>\n",
       "      <td>Shipped</td>\n",
       "      <td>...</td>\n",
       "      <td>INR</td>\n",
       "      <td>1199.00</td>\n",
       "      <td>Halol</td>\n",
       "      <td>Gujarat</td>\n",
       "      <td>389350.0</td>\n",
       "      <td>IN</td>\n",
       "      <td>False</td>\n",
       "      <td>NaN</td>\n",
       "      <td>NaN</td>\n",
       "      <td>NaN</td>\n",
       "    </tr>\n",
       "    <tr>\n",
       "      <th>128975</th>\n",
       "      <td>128974</td>\n",
       "      <td>408-7436540-8728312</td>\n",
       "      <td>05-31-22</td>\n",
       "      <td>Shipped</td>\n",
       "      <td>Amazon</td>\n",
       "      <td>Amazon.in</td>\n",
       "      <td>Expedited</td>\n",
       "      <td>T-shirt</td>\n",
       "      <td>S</td>\n",
       "      <td>Shipped</td>\n",
       "      <td>...</td>\n",
       "      <td>INR</td>\n",
       "      <td>696.00</td>\n",
       "      <td>Raipur</td>\n",
       "      <td>CHHATTISGARH</td>\n",
       "      <td>492014.0</td>\n",
       "      <td>IN</td>\n",
       "      <td>False</td>\n",
       "      <td>NaN</td>\n",
       "      <td>NaN</td>\n",
       "      <td>NaN</td>\n",
       "    </tr>\n",
       "  </tbody>\n",
       "</table>\n",
       "<p>128976 rows × 21 columns</p>\n",
       "</div>"
      ],
      "text/plain": [
       "         index             Order ID      Date                        Status  \\\n",
       "0            0  405-8078784-5731545  04-30-22                     Cancelled   \n",
       "1            1  171-9198151-1101146  04-30-22  Shipped - Delivered to Buyer   \n",
       "2            2  404-0687676-7273146  04-30-22                       Shipped   \n",
       "3            3  403-9615377-8133951  04-30-22                     Cancelled   \n",
       "4            4  407-1069790-7240320  04-30-22                       Shipped   \n",
       "...        ...                  ...       ...                           ...   \n",
       "128971  128970  406-6001380-7673107  05-31-22                       Shipped   \n",
       "128972  128971  402-9551604-7544318  05-31-22                       Shipped   \n",
       "128973  128972  407-9547469-3152358  05-31-22                       Shipped   \n",
       "128974  128973  402-6184140-0545956  05-31-22                       Shipped   \n",
       "128975  128974  408-7436540-8728312  05-31-22                       Shipped   \n",
       "\n",
       "       Fulfilment Sales Channel ship-service-level  Category Size  \\\n",
       "0        Merchant     Amazon.in           Standard   T-shirt    S   \n",
       "1        Merchant     Amazon.in           Standard     Shirt  3XL   \n",
       "2          Amazon     Amazon.in          Expedited     Shirt   XL   \n",
       "3        Merchant     Amazon.in           Standard   Blazzer    L   \n",
       "4          Amazon     Amazon.in          Expedited  Trousers  3XL   \n",
       "...           ...           ...                ...       ...  ...   \n",
       "128971     Amazon     Amazon.in          Expedited     Shirt   XL   \n",
       "128972     Amazon     Amazon.in          Expedited   T-shirt    M   \n",
       "128973     Amazon     Amazon.in          Expedited   Blazzer  XXL   \n",
       "128974     Amazon     Amazon.in          Expedited   T-shirt   XS   \n",
       "128975     Amazon     Amazon.in          Expedited   T-shirt    S   \n",
       "\n",
       "       Courier Status  ...  currency   Amount    ship-city    ship-state  \\\n",
       "0          On the Way  ...       INR   647.62       MUMBAI   MAHARASHTRA   \n",
       "1             Shipped  ...       INR   406.00    BENGALURU     KARNATAKA   \n",
       "2             Shipped  ...       INR   329.00  NAVI MUMBAI   MAHARASHTRA   \n",
       "3          On the Way  ...       INR   753.33   PUDUCHERRY    PUDUCHERRY   \n",
       "4             Shipped  ...       INR   574.00      CHENNAI    TAMIL NADU   \n",
       "...               ...  ...       ...      ...          ...           ...   \n",
       "128971        Shipped  ...       INR   517.00    HYDERABAD     TELANGANA   \n",
       "128972        Shipped  ...       INR   999.00     GURUGRAM       HARYANA   \n",
       "128973        Shipped  ...       INR   690.00    HYDERABAD     TELANGANA   \n",
       "128974        Shipped  ...       INR  1199.00        Halol       Gujarat   \n",
       "128975        Shipped  ...       INR   696.00       Raipur  CHHATTISGARH   \n",
       "\n",
       "       ship-postal-code  ship-country    B2B  fulfilled-by New  PendingS  \n",
       "0              400081.0            IN  False     Easy Ship NaN       NaN  \n",
       "1              560085.0            IN  False     Easy Ship NaN       NaN  \n",
       "2              410210.0            IN   True           NaN NaN       NaN  \n",
       "3              605008.0            IN  False     Easy Ship NaN       NaN  \n",
       "4              600073.0            IN  False           NaN NaN       NaN  \n",
       "...                 ...           ...    ...           ...  ..       ...  \n",
       "128971         500013.0            IN  False           NaN NaN       NaN  \n",
       "128972         122004.0            IN  False           NaN NaN       NaN  \n",
       "128973         500049.0            IN  False           NaN NaN       NaN  \n",
       "128974         389350.0            IN  False           NaN NaN       NaN  \n",
       "128975         492014.0            IN  False           NaN NaN       NaN  \n",
       "\n",
       "[128976 rows x 21 columns]"
      ]
     },
     "execution_count": 66,
     "metadata": {},
     "output_type": "execute_result"
    }
   ],
   "source": [
    "amazon      # for getting first view of my dataset"
   ]
  },
  {
   "cell_type": "code",
   "execution_count": 36,
   "id": "e4bac188-24fe-44b6-a1aa-8e2465062433",
   "metadata": {},
   "outputs": [
    {
     "data": {
      "text/plain": [
       "(128976, 21)"
      ]
     },
     "execution_count": 36,
     "metadata": {},
     "output_type": "execute_result"
    }
   ],
   "source": [
    "amazon.shape       #to get to know about my dataset row and columns"
   ]
  },
  {
   "cell_type": "code",
   "execution_count": 6,
   "id": "db29b5ff-814a-4de7-ab00-f19729677f92",
   "metadata": {},
   "outputs": [
    {
     "data": {
      "text/plain": [
       "Index(['index', 'Order ID', 'Date', 'Status', 'Fulfilment', 'Sales Channel',\n",
       "       'ship-service-level', 'Category', 'Size', 'Courier Status', 'Qty',\n",
       "       'currency', 'Amount', 'ship-city', 'ship-state', 'ship-postal-code',\n",
       "       'ship-country', 'B2B', 'fulfilled-by', 'New', 'PendingS'],\n",
       "      dtype='object')"
      ]
     },
     "execution_count": 6,
     "metadata": {},
     "output_type": "execute_result"
    }
   ],
   "source": [
    "amazon.columns        #to get to know about my dataset columns names"
   ]
  },
  {
   "cell_type": "code",
   "execution_count": 7,
   "id": "6c9d1ac2-117d-43fa-a7a1-bbc1302b0bf1",
   "metadata": {},
   "outputs": [
    {
     "data": {
      "text/html": [
       "<div>\n",
       "<style scoped>\n",
       "    .dataframe tbody tr th:only-of-type {\n",
       "        vertical-align: middle;\n",
       "    }\n",
       "\n",
       "    .dataframe tbody tr th {\n",
       "        vertical-align: top;\n",
       "    }\n",
       "\n",
       "    .dataframe thead th {\n",
       "        text-align: right;\n",
       "    }\n",
       "</style>\n",
       "<table border=\"1\" class=\"dataframe\">\n",
       "  <thead>\n",
       "    <tr style=\"text-align: right;\">\n",
       "      <th></th>\n",
       "      <th>index</th>\n",
       "      <th>Order ID</th>\n",
       "      <th>Date</th>\n",
       "      <th>Status</th>\n",
       "      <th>Fulfilment</th>\n",
       "      <th>Sales Channel</th>\n",
       "      <th>ship-service-level</th>\n",
       "      <th>Category</th>\n",
       "      <th>Size</th>\n",
       "      <th>Courier Status</th>\n",
       "      <th>...</th>\n",
       "      <th>currency</th>\n",
       "      <th>Amount</th>\n",
       "      <th>ship-city</th>\n",
       "      <th>ship-state</th>\n",
       "      <th>ship-postal-code</th>\n",
       "      <th>ship-country</th>\n",
       "      <th>B2B</th>\n",
       "      <th>fulfilled-by</th>\n",
       "      <th>New</th>\n",
       "      <th>PendingS</th>\n",
       "    </tr>\n",
       "  </thead>\n",
       "  <tbody>\n",
       "    <tr>\n",
       "      <th>0</th>\n",
       "      <td>0</td>\n",
       "      <td>405-8078784-5731545</td>\n",
       "      <td>04-30-22</td>\n",
       "      <td>Cancelled</td>\n",
       "      <td>Merchant</td>\n",
       "      <td>Amazon.in</td>\n",
       "      <td>Standard</td>\n",
       "      <td>T-shirt</td>\n",
       "      <td>S</td>\n",
       "      <td>On the Way</td>\n",
       "      <td>...</td>\n",
       "      <td>INR</td>\n",
       "      <td>647.62</td>\n",
       "      <td>MUMBAI</td>\n",
       "      <td>MAHARASHTRA</td>\n",
       "      <td>400081.0</td>\n",
       "      <td>IN</td>\n",
       "      <td>False</td>\n",
       "      <td>Easy Ship</td>\n",
       "      <td>NaN</td>\n",
       "      <td>NaN</td>\n",
       "    </tr>\n",
       "    <tr>\n",
       "      <th>1</th>\n",
       "      <td>1</td>\n",
       "      <td>171-9198151-1101146</td>\n",
       "      <td>04-30-22</td>\n",
       "      <td>Shipped - Delivered to Buyer</td>\n",
       "      <td>Merchant</td>\n",
       "      <td>Amazon.in</td>\n",
       "      <td>Standard</td>\n",
       "      <td>Shirt</td>\n",
       "      <td>3XL</td>\n",
       "      <td>Shipped</td>\n",
       "      <td>...</td>\n",
       "      <td>INR</td>\n",
       "      <td>406.00</td>\n",
       "      <td>BENGALURU</td>\n",
       "      <td>KARNATAKA</td>\n",
       "      <td>560085.0</td>\n",
       "      <td>IN</td>\n",
       "      <td>False</td>\n",
       "      <td>Easy Ship</td>\n",
       "      <td>NaN</td>\n",
       "      <td>NaN</td>\n",
       "    </tr>\n",
       "    <tr>\n",
       "      <th>2</th>\n",
       "      <td>2</td>\n",
       "      <td>404-0687676-7273146</td>\n",
       "      <td>04-30-22</td>\n",
       "      <td>Shipped</td>\n",
       "      <td>Amazon</td>\n",
       "      <td>Amazon.in</td>\n",
       "      <td>Expedited</td>\n",
       "      <td>Shirt</td>\n",
       "      <td>XL</td>\n",
       "      <td>Shipped</td>\n",
       "      <td>...</td>\n",
       "      <td>INR</td>\n",
       "      <td>329.00</td>\n",
       "      <td>NAVI MUMBAI</td>\n",
       "      <td>MAHARASHTRA</td>\n",
       "      <td>410210.0</td>\n",
       "      <td>IN</td>\n",
       "      <td>True</td>\n",
       "      <td>NaN</td>\n",
       "      <td>NaN</td>\n",
       "      <td>NaN</td>\n",
       "    </tr>\n",
       "    <tr>\n",
       "      <th>3</th>\n",
       "      <td>3</td>\n",
       "      <td>403-9615377-8133951</td>\n",
       "      <td>04-30-22</td>\n",
       "      <td>Cancelled</td>\n",
       "      <td>Merchant</td>\n",
       "      <td>Amazon.in</td>\n",
       "      <td>Standard</td>\n",
       "      <td>Blazzer</td>\n",
       "      <td>L</td>\n",
       "      <td>On the Way</td>\n",
       "      <td>...</td>\n",
       "      <td>INR</td>\n",
       "      <td>753.33</td>\n",
       "      <td>PUDUCHERRY</td>\n",
       "      <td>PUDUCHERRY</td>\n",
       "      <td>605008.0</td>\n",
       "      <td>IN</td>\n",
       "      <td>False</td>\n",
       "      <td>Easy Ship</td>\n",
       "      <td>NaN</td>\n",
       "      <td>NaN</td>\n",
       "    </tr>\n",
       "    <tr>\n",
       "      <th>4</th>\n",
       "      <td>4</td>\n",
       "      <td>407-1069790-7240320</td>\n",
       "      <td>04-30-22</td>\n",
       "      <td>Shipped</td>\n",
       "      <td>Amazon</td>\n",
       "      <td>Amazon.in</td>\n",
       "      <td>Expedited</td>\n",
       "      <td>Trousers</td>\n",
       "      <td>3XL</td>\n",
       "      <td>Shipped</td>\n",
       "      <td>...</td>\n",
       "      <td>INR</td>\n",
       "      <td>574.00</td>\n",
       "      <td>CHENNAI</td>\n",
       "      <td>TAMIL NADU</td>\n",
       "      <td>600073.0</td>\n",
       "      <td>IN</td>\n",
       "      <td>False</td>\n",
       "      <td>NaN</td>\n",
       "      <td>NaN</td>\n",
       "      <td>NaN</td>\n",
       "    </tr>\n",
       "  </tbody>\n",
       "</table>\n",
       "<p>5 rows × 21 columns</p>\n",
       "</div>"
      ],
      "text/plain": [
       "   index             Order ID      Date                        Status  \\\n",
       "0      0  405-8078784-5731545  04-30-22                     Cancelled   \n",
       "1      1  171-9198151-1101146  04-30-22  Shipped - Delivered to Buyer   \n",
       "2      2  404-0687676-7273146  04-30-22                       Shipped   \n",
       "3      3  403-9615377-8133951  04-30-22                     Cancelled   \n",
       "4      4  407-1069790-7240320  04-30-22                       Shipped   \n",
       "\n",
       "  Fulfilment Sales Channel ship-service-level  Category Size Courier Status  \\\n",
       "0   Merchant     Amazon.in           Standard   T-shirt    S     On the Way   \n",
       "1   Merchant     Amazon.in           Standard     Shirt  3XL        Shipped   \n",
       "2     Amazon     Amazon.in          Expedited     Shirt   XL        Shipped   \n",
       "3   Merchant     Amazon.in           Standard   Blazzer    L     On the Way   \n",
       "4     Amazon     Amazon.in          Expedited  Trousers  3XL        Shipped   \n",
       "\n",
       "   ...  currency  Amount    ship-city   ship-state ship-postal-code  \\\n",
       "0  ...       INR  647.62       MUMBAI  MAHARASHTRA         400081.0   \n",
       "1  ...       INR  406.00    BENGALURU    KARNATAKA         560085.0   \n",
       "2  ...       INR  329.00  NAVI MUMBAI  MAHARASHTRA         410210.0   \n",
       "3  ...       INR  753.33   PUDUCHERRY   PUDUCHERRY         605008.0   \n",
       "4  ...       INR  574.00      CHENNAI   TAMIL NADU         600073.0   \n",
       "\n",
       "   ship-country    B2B  fulfilled-by New  PendingS  \n",
       "0            IN  False     Easy Ship NaN       NaN  \n",
       "1            IN  False     Easy Ship NaN       NaN  \n",
       "2            IN   True           NaN NaN       NaN  \n",
       "3            IN  False     Easy Ship NaN       NaN  \n",
       "4            IN  False           NaN NaN       NaN  \n",
       "\n",
       "[5 rows x 21 columns]"
      ]
     },
     "execution_count": 7,
     "metadata": {},
     "output_type": "execute_result"
    }
   ],
   "source": [
    "amazon.head()      #to get first 5 row"
   ]
  },
  {
   "cell_type": "code",
   "execution_count": 8,
   "id": "be549c21-338d-4fd7-be18-b556ac000218",
   "metadata": {},
   "outputs": [
    {
     "data": {
      "text/html": [
       "<div>\n",
       "<style scoped>\n",
       "    .dataframe tbody tr th:only-of-type {\n",
       "        vertical-align: middle;\n",
       "    }\n",
       "\n",
       "    .dataframe tbody tr th {\n",
       "        vertical-align: top;\n",
       "    }\n",
       "\n",
       "    .dataframe thead th {\n",
       "        text-align: right;\n",
       "    }\n",
       "</style>\n",
       "<table border=\"1\" class=\"dataframe\">\n",
       "  <thead>\n",
       "    <tr style=\"text-align: right;\">\n",
       "      <th></th>\n",
       "      <th>index</th>\n",
       "      <th>Order ID</th>\n",
       "      <th>Date</th>\n",
       "      <th>Status</th>\n",
       "      <th>Fulfilment</th>\n",
       "      <th>Sales Channel</th>\n",
       "      <th>ship-service-level</th>\n",
       "      <th>Category</th>\n",
       "      <th>Size</th>\n",
       "      <th>Courier Status</th>\n",
       "      <th>...</th>\n",
       "      <th>currency</th>\n",
       "      <th>Amount</th>\n",
       "      <th>ship-city</th>\n",
       "      <th>ship-state</th>\n",
       "      <th>ship-postal-code</th>\n",
       "      <th>ship-country</th>\n",
       "      <th>B2B</th>\n",
       "      <th>fulfilled-by</th>\n",
       "      <th>New</th>\n",
       "      <th>PendingS</th>\n",
       "    </tr>\n",
       "  </thead>\n",
       "  <tbody>\n",
       "    <tr>\n",
       "      <th>128971</th>\n",
       "      <td>128970</td>\n",
       "      <td>406-6001380-7673107</td>\n",
       "      <td>05-31-22</td>\n",
       "      <td>Shipped</td>\n",
       "      <td>Amazon</td>\n",
       "      <td>Amazon.in</td>\n",
       "      <td>Expedited</td>\n",
       "      <td>Shirt</td>\n",
       "      <td>XL</td>\n",
       "      <td>Shipped</td>\n",
       "      <td>...</td>\n",
       "      <td>INR</td>\n",
       "      <td>517.0</td>\n",
       "      <td>HYDERABAD</td>\n",
       "      <td>TELANGANA</td>\n",
       "      <td>500013.0</td>\n",
       "      <td>IN</td>\n",
       "      <td>False</td>\n",
       "      <td>NaN</td>\n",
       "      <td>NaN</td>\n",
       "      <td>NaN</td>\n",
       "    </tr>\n",
       "    <tr>\n",
       "      <th>128972</th>\n",
       "      <td>128971</td>\n",
       "      <td>402-9551604-7544318</td>\n",
       "      <td>05-31-22</td>\n",
       "      <td>Shipped</td>\n",
       "      <td>Amazon</td>\n",
       "      <td>Amazon.in</td>\n",
       "      <td>Expedited</td>\n",
       "      <td>T-shirt</td>\n",
       "      <td>M</td>\n",
       "      <td>Shipped</td>\n",
       "      <td>...</td>\n",
       "      <td>INR</td>\n",
       "      <td>999.0</td>\n",
       "      <td>GURUGRAM</td>\n",
       "      <td>HARYANA</td>\n",
       "      <td>122004.0</td>\n",
       "      <td>IN</td>\n",
       "      <td>False</td>\n",
       "      <td>NaN</td>\n",
       "      <td>NaN</td>\n",
       "      <td>NaN</td>\n",
       "    </tr>\n",
       "    <tr>\n",
       "      <th>128973</th>\n",
       "      <td>128972</td>\n",
       "      <td>407-9547469-3152358</td>\n",
       "      <td>05-31-22</td>\n",
       "      <td>Shipped</td>\n",
       "      <td>Amazon</td>\n",
       "      <td>Amazon.in</td>\n",
       "      <td>Expedited</td>\n",
       "      <td>Blazzer</td>\n",
       "      <td>XXL</td>\n",
       "      <td>Shipped</td>\n",
       "      <td>...</td>\n",
       "      <td>INR</td>\n",
       "      <td>690.0</td>\n",
       "      <td>HYDERABAD</td>\n",
       "      <td>TELANGANA</td>\n",
       "      <td>500049.0</td>\n",
       "      <td>IN</td>\n",
       "      <td>False</td>\n",
       "      <td>NaN</td>\n",
       "      <td>NaN</td>\n",
       "      <td>NaN</td>\n",
       "    </tr>\n",
       "    <tr>\n",
       "      <th>128974</th>\n",
       "      <td>128973</td>\n",
       "      <td>402-6184140-0545956</td>\n",
       "      <td>05-31-22</td>\n",
       "      <td>Shipped</td>\n",
       "      <td>Amazon</td>\n",
       "      <td>Amazon.in</td>\n",
       "      <td>Expedited</td>\n",
       "      <td>T-shirt</td>\n",
       "      <td>XS</td>\n",
       "      <td>Shipped</td>\n",
       "      <td>...</td>\n",
       "      <td>INR</td>\n",
       "      <td>1199.0</td>\n",
       "      <td>Halol</td>\n",
       "      <td>Gujarat</td>\n",
       "      <td>389350.0</td>\n",
       "      <td>IN</td>\n",
       "      <td>False</td>\n",
       "      <td>NaN</td>\n",
       "      <td>NaN</td>\n",
       "      <td>NaN</td>\n",
       "    </tr>\n",
       "    <tr>\n",
       "      <th>128975</th>\n",
       "      <td>128974</td>\n",
       "      <td>408-7436540-8728312</td>\n",
       "      <td>05-31-22</td>\n",
       "      <td>Shipped</td>\n",
       "      <td>Amazon</td>\n",
       "      <td>Amazon.in</td>\n",
       "      <td>Expedited</td>\n",
       "      <td>T-shirt</td>\n",
       "      <td>S</td>\n",
       "      <td>Shipped</td>\n",
       "      <td>...</td>\n",
       "      <td>INR</td>\n",
       "      <td>696.0</td>\n",
       "      <td>Raipur</td>\n",
       "      <td>CHHATTISGARH</td>\n",
       "      <td>492014.0</td>\n",
       "      <td>IN</td>\n",
       "      <td>False</td>\n",
       "      <td>NaN</td>\n",
       "      <td>NaN</td>\n",
       "      <td>NaN</td>\n",
       "    </tr>\n",
       "  </tbody>\n",
       "</table>\n",
       "<p>5 rows × 21 columns</p>\n",
       "</div>"
      ],
      "text/plain": [
       "         index             Order ID      Date   Status Fulfilment  \\\n",
       "128971  128970  406-6001380-7673107  05-31-22  Shipped     Amazon   \n",
       "128972  128971  402-9551604-7544318  05-31-22  Shipped     Amazon   \n",
       "128973  128972  407-9547469-3152358  05-31-22  Shipped     Amazon   \n",
       "128974  128973  402-6184140-0545956  05-31-22  Shipped     Amazon   \n",
       "128975  128974  408-7436540-8728312  05-31-22  Shipped     Amazon   \n",
       "\n",
       "       Sales Channel ship-service-level Category Size Courier Status  ...  \\\n",
       "128971     Amazon.in          Expedited    Shirt   XL        Shipped  ...   \n",
       "128972     Amazon.in          Expedited  T-shirt    M        Shipped  ...   \n",
       "128973     Amazon.in          Expedited  Blazzer  XXL        Shipped  ...   \n",
       "128974     Amazon.in          Expedited  T-shirt   XS        Shipped  ...   \n",
       "128975     Amazon.in          Expedited  T-shirt    S        Shipped  ...   \n",
       "\n",
       "        currency  Amount  ship-city    ship-state ship-postal-code  \\\n",
       "128971       INR   517.0  HYDERABAD     TELANGANA         500013.0   \n",
       "128972       INR   999.0   GURUGRAM       HARYANA         122004.0   \n",
       "128973       INR   690.0  HYDERABAD     TELANGANA         500049.0   \n",
       "128974       INR  1199.0      Halol       Gujarat         389350.0   \n",
       "128975       INR   696.0     Raipur  CHHATTISGARH         492014.0   \n",
       "\n",
       "        ship-country    B2B  fulfilled-by New  PendingS  \n",
       "128971            IN  False           NaN NaN       NaN  \n",
       "128972            IN  False           NaN NaN       NaN  \n",
       "128973            IN  False           NaN NaN       NaN  \n",
       "128974            IN  False           NaN NaN       NaN  \n",
       "128975            IN  False           NaN NaN       NaN  \n",
       "\n",
       "[5 rows x 21 columns]"
      ]
     },
     "execution_count": 8,
     "metadata": {},
     "output_type": "execute_result"
    }
   ],
   "source": [
    "amazon.tail()        #to get last 5 row"
   ]
  },
  {
   "cell_type": "code",
   "execution_count": 9,
   "id": "8c954e89-7a74-411d-81e2-9efab2aec92b",
   "metadata": {},
   "outputs": [
    {
     "name": "stdout",
     "output_type": "stream",
     "text": [
      "<class 'pandas.core.frame.DataFrame'>\n",
      "RangeIndex: 128976 entries, 0 to 128975\n",
      "Data columns (total 21 columns):\n",
      " #   Column              Non-Null Count   Dtype  \n",
      "---  ------              --------------   -----  \n",
      " 0   index               128976 non-null  int64  \n",
      " 1   Order ID            128976 non-null  object \n",
      " 2   Date                128976 non-null  object \n",
      " 3   Status              128976 non-null  object \n",
      " 4   Fulfilment          128976 non-null  object \n",
      " 5   Sales Channel       128976 non-null  object \n",
      " 6   ship-service-level  128976 non-null  object \n",
      " 7   Category            128976 non-null  object \n",
      " 8   Size                128976 non-null  object \n",
      " 9   Courier Status      128976 non-null  object \n",
      " 10  Qty                 128976 non-null  int64  \n",
      " 11  currency            121176 non-null  object \n",
      " 12  Amount              121176 non-null  float64\n",
      " 13  ship-city           128941 non-null  object \n",
      " 14  ship-state          128941 non-null  object \n",
      " 15  ship-postal-code    128941 non-null  float64\n",
      " 16  ship-country        128941 non-null  object \n",
      " 17  B2B                 128976 non-null  bool   \n",
      " 18  fulfilled-by        39263 non-null   object \n",
      " 19  New                 0 non-null       float64\n",
      " 20  PendingS            0 non-null       float64\n",
      "dtypes: bool(1), float64(4), int64(2), object(14)\n",
      "memory usage: 19.8+ MB\n"
     ]
    }
   ],
   "source": [
    "amazon.info()        #to get to know about datatypes of my dataset"
   ]
  },
  {
   "cell_type": "code",
   "execution_count": 10,
   "id": "2bf6a081-7c1a-491f-9472-fc37cadf96f6",
   "metadata": {},
   "outputs": [
    {
     "data": {
      "text/html": [
       "<div>\n",
       "<style scoped>\n",
       "    .dataframe tbody tr th:only-of-type {\n",
       "        vertical-align: middle;\n",
       "    }\n",
       "\n",
       "    .dataframe tbody tr th {\n",
       "        vertical-align: top;\n",
       "    }\n",
       "\n",
       "    .dataframe thead th {\n",
       "        text-align: right;\n",
       "    }\n",
       "</style>\n",
       "<table border=\"1\" class=\"dataframe\">\n",
       "  <thead>\n",
       "    <tr style=\"text-align: right;\">\n",
       "      <th></th>\n",
       "      <th>index</th>\n",
       "      <th>Qty</th>\n",
       "      <th>Amount</th>\n",
       "      <th>ship-postal-code</th>\n",
       "      <th>New</th>\n",
       "      <th>PendingS</th>\n",
       "    </tr>\n",
       "  </thead>\n",
       "  <tbody>\n",
       "    <tr>\n",
       "      <th>count</th>\n",
       "      <td>128976.000000</td>\n",
       "      <td>128976.000000</td>\n",
       "      <td>121176.000000</td>\n",
       "      <td>128941.000000</td>\n",
       "      <td>0.0</td>\n",
       "      <td>0.0</td>\n",
       "    </tr>\n",
       "    <tr>\n",
       "      <th>mean</th>\n",
       "      <td>64486.130427</td>\n",
       "      <td>0.904401</td>\n",
       "      <td>648.562176</td>\n",
       "      <td>463945.677744</td>\n",
       "      <td>NaN</td>\n",
       "      <td>NaN</td>\n",
       "    </tr>\n",
       "    <tr>\n",
       "      <th>std</th>\n",
       "      <td>37232.897832</td>\n",
       "      <td>0.313368</td>\n",
       "      <td>281.185041</td>\n",
       "      <td>191458.488954</td>\n",
       "      <td>NaN</td>\n",
       "      <td>NaN</td>\n",
       "    </tr>\n",
       "    <tr>\n",
       "      <th>min</th>\n",
       "      <td>0.000000</td>\n",
       "      <td>0.000000</td>\n",
       "      <td>0.000000</td>\n",
       "      <td>110001.000000</td>\n",
       "      <td>NaN</td>\n",
       "      <td>NaN</td>\n",
       "    </tr>\n",
       "    <tr>\n",
       "      <th>25%</th>\n",
       "      <td>32242.750000</td>\n",
       "      <td>1.000000</td>\n",
       "      <td>449.000000</td>\n",
       "      <td>382421.000000</td>\n",
       "      <td>NaN</td>\n",
       "      <td>NaN</td>\n",
       "    </tr>\n",
       "    <tr>\n",
       "      <th>50%</th>\n",
       "      <td>64486.500000</td>\n",
       "      <td>1.000000</td>\n",
       "      <td>605.000000</td>\n",
       "      <td>500033.000000</td>\n",
       "      <td>NaN</td>\n",
       "      <td>NaN</td>\n",
       "    </tr>\n",
       "    <tr>\n",
       "      <th>75%</th>\n",
       "      <td>96730.250000</td>\n",
       "      <td>1.000000</td>\n",
       "      <td>788.000000</td>\n",
       "      <td>600024.000000</td>\n",
       "      <td>NaN</td>\n",
       "      <td>NaN</td>\n",
       "    </tr>\n",
       "    <tr>\n",
       "      <th>max</th>\n",
       "      <td>128974.000000</td>\n",
       "      <td>15.000000</td>\n",
       "      <td>5584.000000</td>\n",
       "      <td>989898.000000</td>\n",
       "      <td>NaN</td>\n",
       "      <td>NaN</td>\n",
       "    </tr>\n",
       "  </tbody>\n",
       "</table>\n",
       "</div>"
      ],
      "text/plain": [
       "               index            Qty         Amount  ship-postal-code  New  \\\n",
       "count  128976.000000  128976.000000  121176.000000     128941.000000  0.0   \n",
       "mean    64486.130427       0.904401     648.562176     463945.677744  NaN   \n",
       "std     37232.897832       0.313368     281.185041     191458.488954  NaN   \n",
       "min         0.000000       0.000000       0.000000     110001.000000  NaN   \n",
       "25%     32242.750000       1.000000     449.000000     382421.000000  NaN   \n",
       "50%     64486.500000       1.000000     605.000000     500033.000000  NaN   \n",
       "75%     96730.250000       1.000000     788.000000     600024.000000  NaN   \n",
       "max    128974.000000      15.000000    5584.000000     989898.000000  NaN   \n",
       "\n",
       "       PendingS  \n",
       "count       0.0  \n",
       "mean        NaN  \n",
       "std         NaN  \n",
       "min         NaN  \n",
       "25%         NaN  \n",
       "50%         NaN  \n",
       "75%         NaN  \n",
       "max         NaN  "
      ]
     },
     "execution_count": 10,
     "metadata": {},
     "output_type": "execute_result"
    }
   ],
   "source": [
    "amazon.describe()          #to get done with the arithmetic operation"
   ]
  },
  {
   "cell_type": "markdown",
   "id": "defbf17e-a78e-4e03-8a45-083f5e3f578e",
   "metadata": {},
   "source": [
    "##### let's start dealing with the dataset"
   ]
  },
  {
   "cell_type": "code",
   "execution_count": 11,
   "id": "bc500784-9bc9-4ab9-b950-87054bc883fd",
   "metadata": {},
   "outputs": [
    {
     "data": {
      "text/plain": [
       "index                      0\n",
       "Order ID                   0\n",
       "Date                       0\n",
       "Status                     0\n",
       "Fulfilment                 0\n",
       "Sales Channel              0\n",
       "ship-service-level         0\n",
       "Category                   0\n",
       "Size                       0\n",
       "Courier Status             0\n",
       "Qty                        0\n",
       "currency                7800\n",
       "Amount                  7800\n",
       "ship-city                 35\n",
       "ship-state                35\n",
       "ship-postal-code          35\n",
       "ship-country              35\n",
       "B2B                        0\n",
       "fulfilled-by           89713\n",
       "New                   128976\n",
       "PendingS              128976\n",
       "dtype: int64"
      ]
     },
     "execution_count": 11,
     "metadata": {},
     "output_type": "execute_result"
    }
   ],
   "source": [
    "amazon.isnull().sum()               #to get to know is there any null value"
   ]
  },
  {
   "cell_type": "code",
   "execution_count": 37,
   "id": "46556225-34e4-4c8a-94c2-34b03aaa764a",
   "metadata": {},
   "outputs": [
    {
     "name": "stderr",
     "output_type": "stream",
     "text": [
      "C:\\Users\\taigk\\AppData\\Local\\Temp\\ipykernel_9200\\2073100745.py:1: FutureWarning: A value is trying to be set on a copy of a DataFrame or Series through chained assignment using an inplace method.\n",
      "The behavior will change in pandas 3.0. This inplace method will never work because the intermediate object on which we are setting values always behaves as a copy.\n",
      "\n",
      "For example, when doing 'df[col].method(value, inplace=True)', try using 'df.method({col: value}, inplace=True)' or df[col] = df[col].method(value) instead, to perform the operation inplace on the original object.\n",
      "\n",
      "\n",
      "  amazon.currency.fillna('INR', inplace=True)          # dataset filling with the values\n"
     ]
    }
   ],
   "source": [
    "amazon.currency.fillna('INR', inplace=True)          # dataset filling with the values"
   ]
  },
  {
   "cell_type": "code",
   "execution_count": 45,
   "id": "db33028b-ceb8-4c05-a8b7-dd3cc3a06b75",
   "metadata": {},
   "outputs": [
    {
     "name": "stderr",
     "output_type": "stream",
     "text": [
      "C:\\Users\\taigk\\AppData\\Local\\Temp\\ipykernel_9200\\2012049269.py:1: FutureWarning: A value is trying to be set on a copy of a DataFrame or Series through chained assignment using an inplace method.\n",
      "The behavior will change in pandas 3.0. This inplace method will never work because the intermediate object on which we are setting values always behaves as a copy.\n",
      "\n",
      "For example, when doing 'df[col].method(value, inplace=True)', try using 'df.method({col: value}, inplace=True)' or df[col] = df[col].method(value) instead, to perform the operation inplace on the original object.\n",
      "\n",
      "\n",
      "  amazon.Amount.fillna(0, inplace=True)    #currency is willing with the '0'\n"
     ]
    }
   ],
   "source": [
    "amazon.Amount.fillna(0, inplace=True)    #currency is willing with the '0'"
   ]
  },
  {
   "cell_type": "code",
   "execution_count": 39,
   "id": "99f617ec-ad1e-4664-8496-d987be802590",
   "metadata": {},
   "outputs": [],
   "source": [
    "amazon_1=amazon.copy()            # copying dataset for the easy underdtanding"
   ]
  },
  {
   "cell_type": "code",
   "execution_count": 31,
   "id": "324e9372-52fc-47d3-992d-bf6b80629275",
   "metadata": {},
   "outputs": [],
   "source": [
    "amazon_1=amazon_1.dropna()            #dropping null values"
   ]
  },
  {
   "cell_type": "code",
   "execution_count": 44,
   "id": "b89f3cfb-e48f-490a-bcbf-d7546956a67c",
   "metadata": {},
   "outputs": [
    {
     "data": {
      "text/plain": [
       "0         False\n",
       "1         False\n",
       "2         False\n",
       "3         False\n",
       "4         False\n",
       "          ...  \n",
       "128971    False\n",
       "128972    False\n",
       "128973    False\n",
       "128974    False\n",
       "128975    False\n",
       "Length: 128976, dtype: bool"
      ]
     },
     "execution_count": 44,
     "metadata": {},
     "output_type": "execute_result"
    }
   ],
   "source": [
    "amazon_1.duplicated()              # do we have any duplicates"
   ]
  },
  {
   "cell_type": "code",
   "execution_count": 56,
   "id": "d448f67e-133d-49e6-8937-ba92293195e1",
   "metadata": {},
   "outputs": [],
   "source": [
    "amazon_1.columns = amazon_1.columns.str.replace(' ', '_')# to remove un wanted from gap from with '_'"
   ]
  },
  {
   "cell_type": "markdown",
   "id": "6b3d7c92-b724-420f-af1b-f57545532ca3",
   "metadata": {},
   "source": [
    "#### Bivariate Analysis"
   ]
  },
  {
   "cell_type": "code",
   "execution_count": 58,
   "id": "08aa72d9-e15c-4df1-a94e-969adefcf4ca",
   "metadata": {},
   "outputs": [
    {
     "data": {
      "text/html": [
       "<div>\n",
       "<style scoped>\n",
       "    .dataframe tbody tr th:only-of-type {\n",
       "        vertical-align: middle;\n",
       "    }\n",
       "\n",
       "    .dataframe tbody tr th {\n",
       "        vertical-align: top;\n",
       "    }\n",
       "\n",
       "    .dataframe thead th {\n",
       "        text-align: right;\n",
       "    }\n",
       "</style>\n",
       "<table border=\"1\" class=\"dataframe\">\n",
       "  <thead>\n",
       "    <tr style=\"text-align: right;\">\n",
       "      <th></th>\n",
       "      <th>Order_ID</th>\n",
       "      <th>index</th>\n",
       "    </tr>\n",
       "  </thead>\n",
       "  <tbody>\n",
       "    <tr>\n",
       "      <th>0</th>\n",
       "      <td>171-0000547-8192359</td>\n",
       "      <td>1</td>\n",
       "    </tr>\n",
       "    <tr>\n",
       "      <th>1</th>\n",
       "      <td>171-0000902-4490745</td>\n",
       "      <td>1</td>\n",
       "    </tr>\n",
       "    <tr>\n",
       "      <th>2</th>\n",
       "      <td>171-0001409-6228339</td>\n",
       "      <td>1</td>\n",
       "    </tr>\n",
       "    <tr>\n",
       "      <th>3</th>\n",
       "      <td>171-0003082-5110755</td>\n",
       "      <td>1</td>\n",
       "    </tr>\n",
       "    <tr>\n",
       "      <th>4</th>\n",
       "      <td>171-0003738-2052324</td>\n",
       "      <td>1</td>\n",
       "    </tr>\n",
       "    <tr>\n",
       "      <th>...</th>\n",
       "      <td>...</td>\n",
       "      <td>...</td>\n",
       "    </tr>\n",
       "    <tr>\n",
       "      <th>120224</th>\n",
       "      <td>S02-9578181-3610412</td>\n",
       "      <td>1</td>\n",
       "    </tr>\n",
       "    <tr>\n",
       "      <th>120225</th>\n",
       "      <td>S02-9599483-2736812</td>\n",
       "      <td>1</td>\n",
       "    </tr>\n",
       "    <tr>\n",
       "      <th>120226</th>\n",
       "      <td>S02-9649067-3246849</td>\n",
       "      <td>1</td>\n",
       "    </tr>\n",
       "    <tr>\n",
       "      <th>120227</th>\n",
       "      <td>S02-9736323-0094708</td>\n",
       "      <td>1</td>\n",
       "    </tr>\n",
       "    <tr>\n",
       "      <th>120228</th>\n",
       "      <td>S02-9878098-5959538</td>\n",
       "      <td>1</td>\n",
       "    </tr>\n",
       "  </tbody>\n",
       "</table>\n",
       "<p>120229 rows × 2 columns</p>\n",
       "</div>"
      ],
      "text/plain": [
       "                   Order_ID  index\n",
       "0       171-0000547-8192359      1\n",
       "1       171-0000902-4490745      1\n",
       "2       171-0001409-6228339      1\n",
       "3       171-0003082-5110755      1\n",
       "4       171-0003738-2052324      1\n",
       "...                     ...    ...\n",
       "120224  S02-9578181-3610412      1\n",
       "120225  S02-9599483-2736812      1\n",
       "120226  S02-9649067-3246849      1\n",
       "120227  S02-9736323-0094708      1\n",
       "120228  S02-9878098-5959538      1\n",
       "\n",
       "[120229 rows x 2 columns]"
      ]
     },
     "execution_count": 58,
     "metadata": {},
     "output_type": "execute_result"
    }
   ],
   "source": [
    "amazon_1.groupby('Order_ID')['index'].count().reset_index()              #grouping with the orde_id"
   ]
  },
  {
   "cell_type": "code",
   "execution_count": 61,
   "id": "7d2b61d5-34da-473a-98d4-92cdbcb42593",
   "metadata": {},
   "outputs": [],
   "source": [
    "amazon_1_in = amazon_1.groupby('index')['Order_ID'].count().reset_index()  #grouping with the orde_id"
   ]
  },
  {
   "cell_type": "code",
   "execution_count": 67,
   "id": "ff211d7b-50cb-447a-b60d-e131ab6f3488",
   "metadata": {},
   "outputs": [
    {
     "data": {
      "image/png": "[encoded data removed]",
      "text/plain": [
       "<Figure size 400x400 with 1 Axes>"
      ]
     },
     "metadata": {},
     "output_type": "display_data"
    }
   ],
   "source": [
    "#this is going to stands for index values\n",
    "plt.figure(figsize=(4,4))\n",
    "plt.bar(amazon_1_in['index'], amazon_1_in['Order_ID'], color='maroon')\n",
    "plt.title('Indexes', c='r')\n",
    "plt.xlabel('Number_of_times', c='r')\n",
    "plt.ylabel('Rating' ,c='r')\n",
    "plt.tight_layout()\n",
    "plt.show()"
   ]
  },
  {
   "cell_type": "code",
   "execution_count": 79,
   "id": "78bd5c1c-cb4e-4178-aa74-4111d6731090",
   "metadata": {},
   "outputs": [
    {
     "name": "stderr",
     "output_type": "stream",
     "text": [
      "C:\\Users\\taigk\\AppData\\Local\\Temp\\ipykernel_9200\\2005450498.py:1: UserWarning: Could not infer format, so each element will be parsed individually, falling back to `dateutil`. To ensure parsing is consistent and as-expected, please specify a format.\n",
      "  amazon_1['Date'] = pd.to_datetime(amazon_1['Date'])\n"
     ]
    }
   ],
   "source": [
    "amazon_1['Date'] = pd.to_datetime(amazon_1['Date'])           #changing time\n",
    "amazon_1['year_month'] = amazon_1['Date'].dt.to_period('M')"
   ]
  },
  {
   "cell_type": "code",
   "execution_count": 85,
   "id": "7e0f2918-2539-4c25-b118-ec064d95fc50",
   "metadata": {},
   "outputs": [],
   "source": [
    "amazon_1_yer= amazon_1.groupby('year_month')['Order_ID'].count().reset_index()    # grouping with the time"
   ]
  },
  {
   "cell_type": "code",
   "execution_count": 87,
   "id": "28141627-8d61-49c7-a8a0-bcbf842d4238",
   "metadata": {},
   "outputs": [
    {
     "data": {
      "image/png": "[encoded data removed]",
      "text/plain": [
       "<Figure size 400x400 with 1 Axes>"
      ]
     },
     "metadata": {},
     "output_type": "display_data"
    }
   ],
   "source": [
    "#this cicle will represent amazon orders with the months\n",
    "values = amazon_1_yer['Order_ID'].values\n",
    "labels= amazon_1_yer['year_month']\n",
    "plt.figure(figsize=(4,4))\n",
    "plt.pie(values,    labels=labels,   autopct='%1.1f%%')\n",
    "plt.title('Amazon_orders',c='black')\n",
    "plt.tight_layout()\n",
    "plt.show()"
   ]
  },
  {
   "cell_type": "code",
   "execution_count": 90,
   "id": "176b1f78-738a-420b-a6c1-435a719da8ef",
   "metadata": {},
   "outputs": [],
   "source": [
    "amazon_1_st = amazon_1.groupby('Status')['Order_ID'].count().reset_index() #grouping with 'Status'"
   ]
  },
  {
   "cell_type": "code",
   "execution_count": 96,
   "id": "811bcf08-a739-4ff0-9e81-e94551a8eb18",
   "metadata": {},
   "outputs": [
    {
     "data": {
      "image/png": "[encoded data removed]",
      "text/plain": [
       "<Figure size 600x300 with 1 Axes>"
      ]
     },
     "metadata": {},
     "output_type": "display_data"
    }
   ],
   "source": [
    "#this graph will stand for the order_status\n",
    "plt.figure(figsize=(6,3))\n",
    "plt.barh(amazon_1_st['Status'], amazon_1_st['Order_ID'], color='Green')\n",
    "plt.title('Order_Status', c='r')\n",
    "plt.xlabel('Number_of_orders', c='r')\n",
    "plt.ylabel('Status', c='r')\n",
    "plt.tight_layout()\n",
    "plt.show()\n"
   ]
  },
  {
   "cell_type": "code",
   "execution_count": 99,
   "id": "bcd29f36-4ba3-4478-ae6c-f5b5faf86176",
   "metadata": {},
   "outputs": [],
   "source": [
    "amazon_1_ful= amazon_1.groupby('Fulfilment')['Order_ID'].count().reset_index()  #groping with 'Fulfilment'"
   ]
  },
  {
   "cell_type": "code",
   "execution_count": 103,
   "id": "69d99b9d-17c8-4ac3-9a52-755307c2c487",
   "metadata": {},
   "outputs": [
    {
     "data": {
      "image/png": "[encoded data removed]",
      "text/plain": [
       "<Figure size 400x400 with 1 Axes>"
      ]
     },
     "metadata": {},
     "output_type": "display_data"
    }
   ],
   "source": [
    "#this circle will represent fulfilment\n",
    "plt.figure(figsize=(4,4))\n",
    "values= amazon_1_ful['Order_ID'].values\n",
    "labels= amazon_1_ful['Fulfilment']\n",
    "plt.pie(values,   labels=labels  ,autopct='%1.1f%%')\n",
    "plt.title('Sites' ,c='black')\n",
    "plt.show()"
   ]
  },
  {
   "cell_type": "code",
   "execution_count": 107,
   "id": "4651dd18-e560-472a-963d-6f2257de4625",
   "metadata": {},
   "outputs": [],
   "source": [
    "amazon_1_sal=amazon_1.groupby('Sales_Channel')['Order_ID'].count().reset_index() #grouping with 'Sales_Channel'"
   ]
  },
  {
   "cell_type": "code",
   "execution_count": 112,
   "id": "32b88d14-55ec-441f-9cfb-019634239689",
   "metadata": {},
   "outputs": [
    {
     "data": {
      "image/png": "[encoded data removed]",
      "text/plain": [
       "<Figure size 400x400 with 1 Axes>"
      ]
     },
     "metadata": {},
     "output_type": "display_data"
    }
   ],
   "source": [
    "# This circle will stands for orders come from\n",
    "plt.figure(figsize=(4,4))\n",
    "values= amazon_1_sal['Order_ID'].values\n",
    "labels= amazon_1_sal['Sales_Channel']\n",
    "plt.pie(values, labels=labels, autopct='%1.1f%%', colors=['black' , 'yellow'])\n",
    "plt.title('Orders_come_from', c='r')\n",
    "plt.tight_layout()\n",
    "plt.show()"
   ]
  },
  {
   "cell_type": "code",
   "execution_count": 116,
   "id": "23669251-49a4-40e0-b73c-6325147f5a39",
   "metadata": {},
   "outputs": [],
   "source": [
    "amazon_1_shi = amazon_1.groupby('ship-service-level')['Order_ID'].count().reset_index()          #grouping with 'ship-service-level'"
   ]
  },
  {
   "cell_type": "code",
   "execution_count": 117,
   "id": "f4da2177-6db3-4652-be3b-6bfed0c3f847",
   "metadata": {},
   "outputs": [
    {
     "data": {
      "image/png": "[encoded data removed]",
      "text/plain": [
       "<Figure size 400x400 with 1 Axes>"
      ]
     },
     "metadata": {},
     "output_type": "display_data"
    }
   ],
   "source": [
    "# This circle will stands for 'ship-service-level\n",
    "plt.figure(figsize=(4,4))\n",
    "values= amazon_1_shi['Order_ID'].values\n",
    "labels= amazon_1_shi['ship-service-level']\n",
    "plt.pie(values, labels=labels, autopct='%1.1f%%', colors=['black' , 'yellow'])\n",
    "plt.title('ship-service-level', c='r')\n",
    "plt.tight_layout()\n",
    "plt.show()"
   ]
  },
  {
   "cell_type": "code",
   "execution_count": 121,
   "id": "7ce98c69-ed0b-4301-bbeb-f8ebf39e5367",
   "metadata": {},
   "outputs": [],
   "source": [
    "amazon_1_cat = amazon_1.groupby('Category')['Order_ID'].count().reset_index() #grouping with 'Category'"
   ]
  },
  {
   "cell_type": "code",
   "execution_count": 126,
   "id": "c32bd4b7-d3df-4ec9-9561-889118ed6d01",
   "metadata": {},
   "outputs": [
    {
     "data": {
      "image/png": "[encoded data removed]",
      "text/plain": [
       "<Figure size 400x500 with 1 Axes>"
      ]
     },
     "metadata": {},
     "output_type": "display_data"
    }
   ],
   "source": [
    "#This graph will represent category\n",
    "plt.figure(figsize=(4,5))\n",
    "plt.barh(amazon_1_cat['Category'], amazon_1_cat['Order_ID'], color='black')\n",
    "plt.title('Category' ,c='r')\n",
    "plt.xlabel('Number_Of_Orders' , c='r')\n",
    "plt.ylabel('Category', c='r')\n",
    "plt.tight_layout()\n",
    "plt.show()"
   ]
  },
  {
   "cell_type": "code",
   "execution_count": 128,
   "id": "63be0efb-fd95-47dc-882d-509ff6bf6710",
   "metadata": {},
   "outputs": [],
   "source": [
    "amazon_1_size = amazon_1.groupby('Size')['Order_ID'].count().reset_index()     #grouping with the size"
   ]
  },
  {
   "cell_type": "code",
   "execution_count": 132,
   "id": "c51519f9-41c0-4704-9074-b86a89987f22",
   "metadata": {},
   "outputs": [
    {
     "data": {
      "image/png": "[encoded data removed]",
      "text/plain": [
       "<Figure size 400x500 with 1 Axes>"
      ]
     },
     "metadata": {},
     "output_type": "display_data"
    }
   ],
   "source": [
    "#this graph will stand for 'Size'\n",
    "plt.figure(figsize=(4,5))\n",
    "plt.barh(amazon_1_size['Size'], amazon_1_size['Order_ID'], color= 'DarkBlue')\n",
    "plt.title('Size_of_products')\n",
    "plt.xlabel('Number_of_orders')\n",
    "plt.ylabel('Sizes')\n",
    "plt.tight_layout()\n",
    "plt.show()"
   ]
  },
  {
   "cell_type": "code",
   "execution_count": 136,
   "id": "69fcf6f1-0e99-4c5a-9b93-29dc2d13e015",
   "metadata": {},
   "outputs": [],
   "source": [
    "amazon_1_cs=amazon_1.groupby('Courier_Status')['Order_ID'].count().reset_index() #grouping with Courier Status'"
   ]
  },
  {
   "cell_type": "code",
   "execution_count": 139,
   "id": "de03f472-669b-48d1-a1f2-eb59b89020fd",
   "metadata": {},
   "outputs": [
    {
     "data": {
      "image/png": "[encoded data removed]",
      "text/plain": [
       "<Figure size 400x400 with 1 Axes>"
      ]
     },
     "metadata": {},
     "output_type": "display_data"
    }
   ],
   "source": [
    "#this circle will stand for Courier Status'\n",
    "plt.figure(figsize=(4,4))\n",
    "values= amazon_1_cs['Order_ID'].values\n",
    "labels=amazon_1_cs['Courier_Status']\n",
    "plt.pie(values, labels=labels, autopct='%1.1f%%')\n",
    "plt.title('Courier_Status')\n",
    "plt.tight_layout()\n",
    "plt.show()"
   ]
  },
  {
   "cell_type": "code",
   "execution_count": null,
   "id": "fa5f5669-22da-4e86-a3f2-d4693a0779be",
   "metadata": {},
   "outputs": [],
   "source": []
  }
 ],
 "metadata": {
  "kernelspec": {
   "display_name": "Python 3 (ipykernel)",
   "language": "python",
   "name": "python3"
  },
  "language_info": {
   "codemirror_mode": {
    "name": "ipython",
    "version": 3
   },
   "file_extension": ".py",
   "mimetype": "text/x-python",
   "name": "python",
   "nbconvert_exporter": "python",
   "pygments_lexer": "ipython3",
   "version": "3.13.1"
  }
 },
 "nbformat": 4,
 "nbformat_minor": 5
}
